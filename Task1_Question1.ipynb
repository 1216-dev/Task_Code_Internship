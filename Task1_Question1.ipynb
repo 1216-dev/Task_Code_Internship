{
  "nbformat": 4,
  "nbformat_minor": 0,
  "metadata": {
    "colab": {
      "provenance": []
    },
    "kernelspec": {
      "name": "python3",
      "display_name": "Python 3"
    },
    "language_info": {
      "name": "python"
    }
  },
  "cells": [
    {
      "cell_type": "code",
      "source": [
        "import pandas as pd\n",
        "import numpy as np\n",
        "import matplotlib.pyplot as plt"
      ],
      "metadata": {
        "id": "NF_gdChBSN0W"
      },
      "execution_count": 9,
      "outputs": []
    },
    {
      "cell_type": "code",
      "execution_count": 1,
      "metadata": {
        "colab": {
          "base_uri": "https://localhost:8080/"
        },
        "id": "4zovrSQ7Mgrz",
        "outputId": "a110612b-8aae-4812-a30f-7fac6f2b2aec"
      },
      "outputs": [
        {
          "output_type": "stream",
          "name": "stdout",
          "text": [
            "              ts_event  bid_fill  ask_fill  Signed Volume   price  best_bid  \\\n",
            "0  2024-10-22 08:00:00     801.0    1999.0        -1198.0  236.14    235.83   \n",
            "1  2024-10-22 08:00:01     201.0     202.0           -1.0  236.13    235.83   \n",
            "2  2024-10-22 08:00:02    1600.0    1400.0          200.0  235.83    235.83   \n",
            "3  2024-10-22 08:00:03     534.0     400.0          134.0  236.10    235.96   \n",
            "4  2024-10-22 08:00:04     400.0     502.0         -102.0  236.11    235.96   \n",
            "\n",
            "   best_ask  mid_price  \n",
            "0    236.14    235.985  \n",
            "1    236.13    235.980  \n",
            "2    236.11    235.970  \n",
            "3    236.10    236.030  \n",
            "4    236.11    236.035  \n",
            "Index(['ts_event', 'bid_fill', 'ask_fill', 'Signed Volume', 'price',\n",
            "       'best_bid', 'best_ask', 'mid_price'],\n",
            "      dtype='object')\n"
          ]
        }
      ],
      "source": [
        "import pandas as pd\n",
        "\n",
        "# Load the merged data CSV\n",
        "data = pd.read_csv('/content/merged_data.csv')\n",
        "\n",
        "# Show the first few rows to check the data\n",
        "print(data.head())\n",
        "\n",
        "# Show column names to ensure we know the structure\n",
        "print(data.columns)\n"
      ]
    },
    {
      "cell_type": "code",
      "source": [
        "data"
      ],
      "metadata": {
        "colab": {
          "base_uri": "https://localhost:8080/",
          "height": 423
        },
        "id": "TFTB_OanNRPT",
        "outputId": "e188cf3d-a797-49cf-8da9-edec2eb1a0a8"
      },
      "execution_count": 2,
      "outputs": [
        {
          "output_type": "execute_result",
          "data": {
            "text/plain": [
              "                  ts_event  bid_fill  ask_fill  Signed Volume   price  \\\n",
              "0      2024-10-22 08:00:00     801.0    1999.0        -1198.0  236.14   \n",
              "1      2024-10-22 08:00:01     201.0     202.0           -1.0  236.13   \n",
              "2      2024-10-22 08:00:02    1600.0    1400.0          200.0  235.83   \n",
              "3      2024-10-22 08:00:03     534.0     400.0          134.0  236.10   \n",
              "4      2024-10-22 08:00:04     400.0     502.0         -102.0  236.11   \n",
              "...                    ...       ...       ...            ...     ...   \n",
              "27702  2024-10-22 23:58:59      32.0       0.0           32.0  235.54   \n",
              "27703  2024-10-22 23:59:00      40.0      40.0            0.0  235.54   \n",
              "27704  2024-10-22 23:59:37       0.0       1.0           -1.0  235.70   \n",
              "27705  2024-10-22 23:59:41       5.0       0.0            5.0  235.60   \n",
              "27706  2024-10-22 23:59:57       5.0       0.0            5.0  235.60   \n",
              "\n",
              "       best_bid  best_ask  mid_price  \n",
              "0        235.83    236.14    235.985  \n",
              "1        235.83    236.13    235.980  \n",
              "2        235.83    236.11    235.970  \n",
              "3        235.96    236.10    236.030  \n",
              "4        235.96    236.11    236.035  \n",
              "...         ...       ...        ...  \n",
              "27702    235.54    235.81    235.675  \n",
              "27703    235.23    235.81    235.520  \n",
              "27704    235.23    235.70    235.465  \n",
              "27705    235.60    235.70    235.650  \n",
              "27706    235.23    235.70    235.465  \n",
              "\n",
              "[27707 rows x 8 columns]"
            ],
            "text/html": [
              "\n",
              "  <div id=\"df-f0526fa3-1a1b-49f7-962a-fd9236d00832\" class=\"colab-df-container\">\n",
              "    <div>\n",
              "<style scoped>\n",
              "    .dataframe tbody tr th:only-of-type {\n",
              "        vertical-align: middle;\n",
              "    }\n",
              "\n",
              "    .dataframe tbody tr th {\n",
              "        vertical-align: top;\n",
              "    }\n",
              "\n",
              "    .dataframe thead th {\n",
              "        text-align: right;\n",
              "    }\n",
              "</style>\n",
              "<table border=\"1\" class=\"dataframe\">\n",
              "  <thead>\n",
              "    <tr style=\"text-align: right;\">\n",
              "      <th></th>\n",
              "      <th>ts_event</th>\n",
              "      <th>bid_fill</th>\n",
              "      <th>ask_fill</th>\n",
              "      <th>Signed Volume</th>\n",
              "      <th>price</th>\n",
              "      <th>best_bid</th>\n",
              "      <th>best_ask</th>\n",
              "      <th>mid_price</th>\n",
              "    </tr>\n",
              "  </thead>\n",
              "  <tbody>\n",
              "    <tr>\n",
              "      <th>0</th>\n",
              "      <td>2024-10-22 08:00:00</td>\n",
              "      <td>801.0</td>\n",
              "      <td>1999.0</td>\n",
              "      <td>-1198.0</td>\n",
              "      <td>236.14</td>\n",
              "      <td>235.83</td>\n",
              "      <td>236.14</td>\n",
              "      <td>235.985</td>\n",
              "    </tr>\n",
              "    <tr>\n",
              "      <th>1</th>\n",
              "      <td>2024-10-22 08:00:01</td>\n",
              "      <td>201.0</td>\n",
              "      <td>202.0</td>\n",
              "      <td>-1.0</td>\n",
              "      <td>236.13</td>\n",
              "      <td>235.83</td>\n",
              "      <td>236.13</td>\n",
              "      <td>235.980</td>\n",
              "    </tr>\n",
              "    <tr>\n",
              "      <th>2</th>\n",
              "      <td>2024-10-22 08:00:02</td>\n",
              "      <td>1600.0</td>\n",
              "      <td>1400.0</td>\n",
              "      <td>200.0</td>\n",
              "      <td>235.83</td>\n",
              "      <td>235.83</td>\n",
              "      <td>236.11</td>\n",
              "      <td>235.970</td>\n",
              "    </tr>\n",
              "    <tr>\n",
              "      <th>3</th>\n",
              "      <td>2024-10-22 08:00:03</td>\n",
              "      <td>534.0</td>\n",
              "      <td>400.0</td>\n",
              "      <td>134.0</td>\n",
              "      <td>236.10</td>\n",
              "      <td>235.96</td>\n",
              "      <td>236.10</td>\n",
              "      <td>236.030</td>\n",
              "    </tr>\n",
              "    <tr>\n",
              "      <th>4</th>\n",
              "      <td>2024-10-22 08:00:04</td>\n",
              "      <td>400.0</td>\n",
              "      <td>502.0</td>\n",
              "      <td>-102.0</td>\n",
              "      <td>236.11</td>\n",
              "      <td>235.96</td>\n",
              "      <td>236.11</td>\n",
              "      <td>236.035</td>\n",
              "    </tr>\n",
              "    <tr>\n",
              "      <th>...</th>\n",
              "      <td>...</td>\n",
              "      <td>...</td>\n",
              "      <td>...</td>\n",
              "      <td>...</td>\n",
              "      <td>...</td>\n",
              "      <td>...</td>\n",
              "      <td>...</td>\n",
              "      <td>...</td>\n",
              "    </tr>\n",
              "    <tr>\n",
              "      <th>27702</th>\n",
              "      <td>2024-10-22 23:58:59</td>\n",
              "      <td>32.0</td>\n",
              "      <td>0.0</td>\n",
              "      <td>32.0</td>\n",
              "      <td>235.54</td>\n",
              "      <td>235.54</td>\n",
              "      <td>235.81</td>\n",
              "      <td>235.675</td>\n",
              "    </tr>\n",
              "    <tr>\n",
              "      <th>27703</th>\n",
              "      <td>2024-10-22 23:59:00</td>\n",
              "      <td>40.0</td>\n",
              "      <td>40.0</td>\n",
              "      <td>0.0</td>\n",
              "      <td>235.54</td>\n",
              "      <td>235.23</td>\n",
              "      <td>235.81</td>\n",
              "      <td>235.520</td>\n",
              "    </tr>\n",
              "    <tr>\n",
              "      <th>27704</th>\n",
              "      <td>2024-10-22 23:59:37</td>\n",
              "      <td>0.0</td>\n",
              "      <td>1.0</td>\n",
              "      <td>-1.0</td>\n",
              "      <td>235.70</td>\n",
              "      <td>235.23</td>\n",
              "      <td>235.70</td>\n",
              "      <td>235.465</td>\n",
              "    </tr>\n",
              "    <tr>\n",
              "      <th>27705</th>\n",
              "      <td>2024-10-22 23:59:41</td>\n",
              "      <td>5.0</td>\n",
              "      <td>0.0</td>\n",
              "      <td>5.0</td>\n",
              "      <td>235.60</td>\n",
              "      <td>235.60</td>\n",
              "      <td>235.70</td>\n",
              "      <td>235.650</td>\n",
              "    </tr>\n",
              "    <tr>\n",
              "      <th>27706</th>\n",
              "      <td>2024-10-22 23:59:57</td>\n",
              "      <td>5.0</td>\n",
              "      <td>0.0</td>\n",
              "      <td>5.0</td>\n",
              "      <td>235.60</td>\n",
              "      <td>235.23</td>\n",
              "      <td>235.70</td>\n",
              "      <td>235.465</td>\n",
              "    </tr>\n",
              "  </tbody>\n",
              "</table>\n",
              "<p>27707 rows × 8 columns</p>\n",
              "</div>\n",
              "    <div class=\"colab-df-buttons\">\n",
              "\n",
              "  <div class=\"colab-df-container\">\n",
              "    <button class=\"colab-df-convert\" onclick=\"convertToInteractive('df-f0526fa3-1a1b-49f7-962a-fd9236d00832')\"\n",
              "            title=\"Convert this dataframe to an interactive table.\"\n",
              "            style=\"display:none;\">\n",
              "\n",
              "  <svg xmlns=\"http://www.w3.org/2000/svg\" height=\"24px\" viewBox=\"0 -960 960 960\">\n",
              "    <path d=\"M120-120v-720h720v720H120Zm60-500h600v-160H180v160Zm220 220h160v-160H400v160Zm0 220h160v-160H400v160ZM180-400h160v-160H180v160Zm440 0h160v-160H620v160ZM180-180h160v-160H180v160Zm440 0h160v-160H620v160Z\"/>\n",
              "  </svg>\n",
              "    </button>\n",
              "\n",
              "  <style>\n",
              "    .colab-df-container {\n",
              "      display:flex;\n",
              "      gap: 12px;\n",
              "    }\n",
              "\n",
              "    .colab-df-convert {\n",
              "      background-color: #E8F0FE;\n",
              "      border: none;\n",
              "      border-radius: 50%;\n",
              "      cursor: pointer;\n",
              "      display: none;\n",
              "      fill: #1967D2;\n",
              "      height: 32px;\n",
              "      padding: 0 0 0 0;\n",
              "      width: 32px;\n",
              "    }\n",
              "\n",
              "    .colab-df-convert:hover {\n",
              "      background-color: #E2EBFA;\n",
              "      box-shadow: 0px 1px 2px rgba(60, 64, 67, 0.3), 0px 1px 3px 1px rgba(60, 64, 67, 0.15);\n",
              "      fill: #174EA6;\n",
              "    }\n",
              "\n",
              "    .colab-df-buttons div {\n",
              "      margin-bottom: 4px;\n",
              "    }\n",
              "\n",
              "    [theme=dark] .colab-df-convert {\n",
              "      background-color: #3B4455;\n",
              "      fill: #D2E3FC;\n",
              "    }\n",
              "\n",
              "    [theme=dark] .colab-df-convert:hover {\n",
              "      background-color: #434B5C;\n",
              "      box-shadow: 0px 1px 3px 1px rgba(0, 0, 0, 0.15);\n",
              "      filter: drop-shadow(0px 1px 2px rgba(0, 0, 0, 0.3));\n",
              "      fill: #FFFFFF;\n",
              "    }\n",
              "  </style>\n",
              "\n",
              "    <script>\n",
              "      const buttonEl =\n",
              "        document.querySelector('#df-f0526fa3-1a1b-49f7-962a-fd9236d00832 button.colab-df-convert');\n",
              "      buttonEl.style.display =\n",
              "        google.colab.kernel.accessAllowed ? 'block' : 'none';\n",
              "\n",
              "      async function convertToInteractive(key) {\n",
              "        const element = document.querySelector('#df-f0526fa3-1a1b-49f7-962a-fd9236d00832');\n",
              "        const dataTable =\n",
              "          await google.colab.kernel.invokeFunction('convertToInteractive',\n",
              "                                                    [key], {});\n",
              "        if (!dataTable) return;\n",
              "\n",
              "        const docLinkHtml = 'Like what you see? Visit the ' +\n",
              "          '<a target=\"_blank\" href=https://colab.research.google.com/notebooks/data_table.ipynb>data table notebook</a>'\n",
              "          + ' to learn more about interactive tables.';\n",
              "        element.innerHTML = '';\n",
              "        dataTable['output_type'] = 'display_data';\n",
              "        await google.colab.output.renderOutput(dataTable, element);\n",
              "        const docLink = document.createElement('div');\n",
              "        docLink.innerHTML = docLinkHtml;\n",
              "        element.appendChild(docLink);\n",
              "      }\n",
              "    </script>\n",
              "  </div>\n",
              "\n",
              "\n",
              "<div id=\"df-b95ad475-fc01-4e40-8655-eab82ed8f321\">\n",
              "  <button class=\"colab-df-quickchart\" onclick=\"quickchart('df-b95ad475-fc01-4e40-8655-eab82ed8f321')\"\n",
              "            title=\"Suggest charts\"\n",
              "            style=\"display:none;\">\n",
              "\n",
              "<svg xmlns=\"http://www.w3.org/2000/svg\" height=\"24px\"viewBox=\"0 0 24 24\"\n",
              "     width=\"24px\">\n",
              "    <g>\n",
              "        <path d=\"M19 3H5c-1.1 0-2 .9-2 2v14c0 1.1.9 2 2 2h14c1.1 0 2-.9 2-2V5c0-1.1-.9-2-2-2zM9 17H7v-7h2v7zm4 0h-2V7h2v10zm4 0h-2v-4h2v4z\"/>\n",
              "    </g>\n",
              "</svg>\n",
              "  </button>\n",
              "\n",
              "<style>\n",
              "  .colab-df-quickchart {\n",
              "      --bg-color: #E8F0FE;\n",
              "      --fill-color: #1967D2;\n",
              "      --hover-bg-color: #E2EBFA;\n",
              "      --hover-fill-color: #174EA6;\n",
              "      --disabled-fill-color: #AAA;\n",
              "      --disabled-bg-color: #DDD;\n",
              "  }\n",
              "\n",
              "  [theme=dark] .colab-df-quickchart {\n",
              "      --bg-color: #3B4455;\n",
              "      --fill-color: #D2E3FC;\n",
              "      --hover-bg-color: #434B5C;\n",
              "      --hover-fill-color: #FFFFFF;\n",
              "      --disabled-bg-color: #3B4455;\n",
              "      --disabled-fill-color: #666;\n",
              "  }\n",
              "\n",
              "  .colab-df-quickchart {\n",
              "    background-color: var(--bg-color);\n",
              "    border: none;\n",
              "    border-radius: 50%;\n",
              "    cursor: pointer;\n",
              "    display: none;\n",
              "    fill: var(--fill-color);\n",
              "    height: 32px;\n",
              "    padding: 0;\n",
              "    width: 32px;\n",
              "  }\n",
              "\n",
              "  .colab-df-quickchart:hover {\n",
              "    background-color: var(--hover-bg-color);\n",
              "    box-shadow: 0 1px 2px rgba(60, 64, 67, 0.3), 0 1px 3px 1px rgba(60, 64, 67, 0.15);\n",
              "    fill: var(--button-hover-fill-color);\n",
              "  }\n",
              "\n",
              "  .colab-df-quickchart-complete:disabled,\n",
              "  .colab-df-quickchart-complete:disabled:hover {\n",
              "    background-color: var(--disabled-bg-color);\n",
              "    fill: var(--disabled-fill-color);\n",
              "    box-shadow: none;\n",
              "  }\n",
              "\n",
              "  .colab-df-spinner {\n",
              "    border: 2px solid var(--fill-color);\n",
              "    border-color: transparent;\n",
              "    border-bottom-color: var(--fill-color);\n",
              "    animation:\n",
              "      spin 1s steps(1) infinite;\n",
              "  }\n",
              "\n",
              "  @keyframes spin {\n",
              "    0% {\n",
              "      border-color: transparent;\n",
              "      border-bottom-color: var(--fill-color);\n",
              "      border-left-color: var(--fill-color);\n",
              "    }\n",
              "    20% {\n",
              "      border-color: transparent;\n",
              "      border-left-color: var(--fill-color);\n",
              "      border-top-color: var(--fill-color);\n",
              "    }\n",
              "    30% {\n",
              "      border-color: transparent;\n",
              "      border-left-color: var(--fill-color);\n",
              "      border-top-color: var(--fill-color);\n",
              "      border-right-color: var(--fill-color);\n",
              "    }\n",
              "    40% {\n",
              "      border-color: transparent;\n",
              "      border-right-color: var(--fill-color);\n",
              "      border-top-color: var(--fill-color);\n",
              "    }\n",
              "    60% {\n",
              "      border-color: transparent;\n",
              "      border-right-color: var(--fill-color);\n",
              "    }\n",
              "    80% {\n",
              "      border-color: transparent;\n",
              "      border-right-color: var(--fill-color);\n",
              "      border-bottom-color: var(--fill-color);\n",
              "    }\n",
              "    90% {\n",
              "      border-color: transparent;\n",
              "      border-bottom-color: var(--fill-color);\n",
              "    }\n",
              "  }\n",
              "</style>\n",
              "\n",
              "  <script>\n",
              "    async function quickchart(key) {\n",
              "      const quickchartButtonEl =\n",
              "        document.querySelector('#' + key + ' button');\n",
              "      quickchartButtonEl.disabled = true;  // To prevent multiple clicks.\n",
              "      quickchartButtonEl.classList.add('colab-df-spinner');\n",
              "      try {\n",
              "        const charts = await google.colab.kernel.invokeFunction(\n",
              "            'suggestCharts', [key], {});\n",
              "      } catch (error) {\n",
              "        console.error('Error during call to suggestCharts:', error);\n",
              "      }\n",
              "      quickchartButtonEl.classList.remove('colab-df-spinner');\n",
              "      quickchartButtonEl.classList.add('colab-df-quickchart-complete');\n",
              "    }\n",
              "    (() => {\n",
              "      let quickchartButtonEl =\n",
              "        document.querySelector('#df-b95ad475-fc01-4e40-8655-eab82ed8f321 button');\n",
              "      quickchartButtonEl.style.display =\n",
              "        google.colab.kernel.accessAllowed ? 'block' : 'none';\n",
              "    })();\n",
              "  </script>\n",
              "</div>\n",
              "\n",
              "  <div id=\"id_cf8179b7-58f6-45bd-9b50-a2d9c41c66bc\">\n",
              "    <style>\n",
              "      .colab-df-generate {\n",
              "        background-color: #E8F0FE;\n",
              "        border: none;\n",
              "        border-radius: 50%;\n",
              "        cursor: pointer;\n",
              "        display: none;\n",
              "        fill: #1967D2;\n",
              "        height: 32px;\n",
              "        padding: 0 0 0 0;\n",
              "        width: 32px;\n",
              "      }\n",
              "\n",
              "      .colab-df-generate:hover {\n",
              "        background-color: #E2EBFA;\n",
              "        box-shadow: 0px 1px 2px rgba(60, 64, 67, 0.3), 0px 1px 3px 1px rgba(60, 64, 67, 0.15);\n",
              "        fill: #174EA6;\n",
              "      }\n",
              "\n",
              "      [theme=dark] .colab-df-generate {\n",
              "        background-color: #3B4455;\n",
              "        fill: #D2E3FC;\n",
              "      }\n",
              "\n",
              "      [theme=dark] .colab-df-generate:hover {\n",
              "        background-color: #434B5C;\n",
              "        box-shadow: 0px 1px 3px 1px rgba(0, 0, 0, 0.15);\n",
              "        filter: drop-shadow(0px 1px 2px rgba(0, 0, 0, 0.3));\n",
              "        fill: #FFFFFF;\n",
              "      }\n",
              "    </style>\n",
              "    <button class=\"colab-df-generate\" onclick=\"generateWithVariable('data')\"\n",
              "            title=\"Generate code using this dataframe.\"\n",
              "            style=\"display:none;\">\n",
              "\n",
              "  <svg xmlns=\"http://www.w3.org/2000/svg\" height=\"24px\"viewBox=\"0 0 24 24\"\n",
              "       width=\"24px\">\n",
              "    <path d=\"M7,19H8.4L18.45,9,17,7.55,7,17.6ZM5,21V16.75L18.45,3.32a2,2,0,0,1,2.83,0l1.4,1.43a1.91,1.91,0,0,1,.58,1.4,1.91,1.91,0,0,1-.58,1.4L9.25,21ZM18.45,9,17,7.55Zm-12,3A5.31,5.31,0,0,0,4.9,8.1,5.31,5.31,0,0,0,1,6.5,5.31,5.31,0,0,0,4.9,4.9,5.31,5.31,0,0,0,6.5,1,5.31,5.31,0,0,0,8.1,4.9,5.31,5.31,0,0,0,12,6.5,5.46,5.46,0,0,0,6.5,12Z\"/>\n",
              "  </svg>\n",
              "    </button>\n",
              "    <script>\n",
              "      (() => {\n",
              "      const buttonEl =\n",
              "        document.querySelector('#id_cf8179b7-58f6-45bd-9b50-a2d9c41c66bc button.colab-df-generate');\n",
              "      buttonEl.style.display =\n",
              "        google.colab.kernel.accessAllowed ? 'block' : 'none';\n",
              "\n",
              "      buttonEl.onclick = () => {\n",
              "        google.colab.notebook.generateWithVariable('data');\n",
              "      }\n",
              "      })();\n",
              "    </script>\n",
              "  </div>\n",
              "\n",
              "    </div>\n",
              "  </div>\n"
            ],
            "application/vnd.google.colaboratory.intrinsic+json": {
              "type": "dataframe",
              "variable_name": "data",
              "summary": "{\n  \"name\": \"data\",\n  \"rows\": 27707,\n  \"fields\": [\n    {\n      \"column\": \"ts_event\",\n      \"properties\": {\n        \"dtype\": \"object\",\n        \"num_unique_values\": 27707,\n        \"samples\": [\n          \"2024-10-22 12:14:46\",\n          \"2024-10-22 18:31:48\",\n          \"2024-10-22 18:10:46\"\n        ],\n        \"semantic_type\": \"\",\n        \"description\": \"\"\n      }\n    },\n    {\n      \"column\": \"bid_fill\",\n      \"properties\": {\n        \"dtype\": \"number\",\n        \"std\": 9265.736735500028,\n        \"min\": 0.0,\n        \"max\": 399704.0,\n        \"num_unique_values\": 11794,\n        \"samples\": [\n          5820.0,\n          7283.0,\n          5602.0\n        ],\n        \"semantic_type\": \"\",\n        \"description\": \"\"\n      }\n    },\n    {\n      \"column\": \"ask_fill\",\n      \"properties\": {\n        \"dtype\": \"number\",\n        \"std\": 13005.035399748265,\n        \"min\": 0.0,\n        \"max\": 1335901.0,\n        \"num_unique_values\": 12837,\n        \"samples\": [\n          1711.0,\n          2766.0,\n          5869.0\n        ],\n        \"semantic_type\": \"\",\n        \"description\": \"\"\n      }\n    },\n    {\n      \"column\": \"Signed Volume\",\n      \"properties\": {\n        \"dtype\": \"number\",\n        \"std\": 10719.088341382287,\n        \"min\": -1260787.0,\n        \"max\": 361679.0,\n        \"num_unique_values\": 13634,\n        \"samples\": [\n          -6530.0,\n          3430.0,\n          -13238.0\n        ],\n        \"semantic_type\": \"\",\n        \"description\": \"\"\n      }\n    },\n    {\n      \"column\": \"price\",\n      \"properties\": {\n        \"dtype\": \"number\",\n        \"std\": 0.8083877531734868,\n        \"min\": 220.17,\n        \"max\": 237.89,\n        \"num_unique_values\": 433,\n        \"samples\": [\n          236.08,\n          235.31,\n          234.04\n        ],\n        \"semantic_type\": \"\",\n        \"description\": \"\"\n      }\n    },\n    {\n      \"column\": \"best_bid\",\n      \"properties\": {\n        \"dtype\": \"number\",\n        \"std\": 0.7930786699966426,\n        \"min\": 232.63,\n        \"max\": 236.18,\n        \"num_unique_values\": 352,\n        \"samples\": [\n          232.92,\n          234.27,\n          234.84\n        ],\n        \"semantic_type\": \"\",\n        \"description\": \"\"\n      }\n    },\n    {\n      \"column\": \"best_ask\",\n      \"properties\": {\n        \"dtype\": \"number\",\n        \"std\": 0.8065889331169355,\n        \"min\": 232.66,\n        \"max\": 236.19,\n        \"num_unique_values\": 347,\n        \"samples\": [\n          234.84,\n          234.82,\n          234.71\n        ],\n        \"semantic_type\": \"\",\n        \"description\": \"\"\n      }\n    },\n    {\n      \"column\": \"mid_price\",\n      \"properties\": {\n        \"dtype\": \"number\",\n        \"std\": 0.7992193874239475,\n        \"min\": 232.645,\n        \"max\": 236.185,\n        \"num_unique_values\": 687,\n        \"samples\": [\n          233.81,\n          236.0,\n          234.37\n        ],\n        \"semantic_type\": \"\",\n        \"description\": \"\"\n      }\n    }\n  ]\n}"
            }
          },
          "metadata": {},
          "execution_count": 2
        }
      ]
    },
    {
      "cell_type": "markdown",
      "source": [
        "# ***Important Columns to Focus On:***\n",
        "**Signed volume:** This is the key column that represents the trade size .\n",
        "**We'll use this for modeling price impact.**\n",
        "\n",
        "**Bid fill, Ask fill:** These can help validate the Signed volume column.\n",
        "\n",
        "**Best bid and Best ask:** These are useful for price prediction, though we won't directly use them in the initial models for price impact."
      ],
      "metadata": {
        "id": "XaCw7Ih5NTRX"
      }
    },
    {
      "cell_type": "markdown",
      "source": [
        "# ***Data PreProcessing***"
      ],
      "metadata": {
        "id": "sHxgsX1-RbMS"
      }
    },
    {
      "cell_type": "code",
      "source": [
        "\n",
        "# Show column names\n",
        "print(data.columns)\n",
        "\n"
      ],
      "metadata": {
        "colab": {
          "base_uri": "https://localhost:8080/"
        },
        "id": "HP8CECqiReMf",
        "outputId": "0ceec476-5dbc-4d8b-ee10-b7ad4bb8188d"
      },
      "execution_count": 3,
      "outputs": [
        {
          "output_type": "stream",
          "name": "stdout",
          "text": [
            "Index(['ts_event', 'bid_fill', 'ask_fill', 'Signed Volume', 'price',\n",
            "       'best_bid', 'best_ask', 'mid_price'],\n",
            "      dtype='object')\n"
          ]
        }
      ]
    },
    {
      "cell_type": "code",
      "source": [
        "# Check for missing values\n",
        "print(data.isnull().sum())\n",
        "\n"
      ],
      "metadata": {
        "colab": {
          "base_uri": "https://localhost:8080/"
        },
        "id": "o4kRMj9sRhp_",
        "outputId": "43181dd6-827f-4290-8297-e6cbd6153968"
      },
      "execution_count": 4,
      "outputs": [
        {
          "output_type": "stream",
          "name": "stdout",
          "text": [
            "ts_event         0\n",
            "bid_fill         0\n",
            "ask_fill         0\n",
            "Signed Volume    0\n",
            "price            0\n",
            "best_bid         0\n",
            "best_ask         0\n",
            "mid_price        0\n",
            "dtype: int64\n"
          ]
        }
      ]
    },
    {
      "cell_type": "code",
      "source": [
        "import pandas as pd\n",
        "import numpy as np\n",
        "import matplotlib.pyplot as plt\n",
        "\n",
        "# Load the merged data CSV file\n",
        "data = pd.read_csv('/content/merged_data.csv')\n",
        "\n",
        "# Show the first few rows to understand the structure\n",
        "print(data.head())\n",
        "\n",
        "# Check the columns and their datatypes\n",
        "print(data.dtypes)\n",
        "\n",
        "# Check for missing values\n",
        "print(f\"Missing values:\\n{data.isnull().sum()}\")\n",
        "\n",
        "# Check for invalid values (e.g., negative or zero values in 'Signed Volume')\n",
        "print(f\"Signed Volume - Min: {data['Signed Volume'].min()}, Max: {data['Signed Volume'].max()}\")\n",
        "\n",
        "# Handle missing or invalid values\n",
        "# Remove rows with NaN values\n",
        "data.dropna(inplace=True)\n",
        "\n",
        "# Remove rows where Signed Volume <= 0 (invalid trades)\n",
        "data = data[data['Signed Volume'] > 0]\n",
        "\n",
        "# Check the cleaned data\n",
        "print(f\"Data after cleaning:\\n{data.head()}\")\n",
        "print(f\"Data summary:\\n{data.describe()}\")\n"
      ],
      "metadata": {
        "colab": {
          "base_uri": "https://localhost:8080/"
        },
        "id": "6xqEIUL5RkKq",
        "outputId": "e406d4a7-1a5e-4a92-9a6c-ce5d300b3c52"
      },
      "execution_count": 33,
      "outputs": [
        {
          "output_type": "stream",
          "name": "stdout",
          "text": [
            "              ts_event  bid_fill  ask_fill  Signed Volume   price  best_bid  \\\n",
            "0  2024-10-22 08:00:00     801.0    1999.0        -1198.0  236.14    235.83   \n",
            "1  2024-10-22 08:00:01     201.0     202.0           -1.0  236.13    235.83   \n",
            "2  2024-10-22 08:00:02    1600.0    1400.0          200.0  235.83    235.83   \n",
            "3  2024-10-22 08:00:03     534.0     400.0          134.0  236.10    235.96   \n",
            "4  2024-10-22 08:00:04     400.0     502.0         -102.0  236.11    235.96   \n",
            "\n",
            "   best_ask  mid_price  \n",
            "0    236.14    235.985  \n",
            "1    236.13    235.980  \n",
            "2    236.11    235.970  \n",
            "3    236.10    236.030  \n",
            "4    236.11    236.035  \n",
            "ts_event          object\n",
            "bid_fill         float64\n",
            "ask_fill         float64\n",
            "Signed Volume    float64\n",
            "price            float64\n",
            "best_bid         float64\n",
            "best_ask         float64\n",
            "mid_price        float64\n",
            "dtype: object\n",
            "Missing values:\n",
            "ts_event         0\n",
            "bid_fill         0\n",
            "ask_fill         0\n",
            "Signed Volume    0\n",
            "price            0\n",
            "best_bid         0\n",
            "best_ask         0\n",
            "mid_price        0\n",
            "dtype: int64\n",
            "Signed Volume - Min: -1260787.0, Max: 361679.0\n",
            "Data after cleaning:\n",
            "               ts_event  bid_fill  ask_fill  Signed Volume   price  best_bid  \\\n",
            "2   2024-10-22 08:00:02    1600.0    1400.0          200.0  235.83    235.83   \n",
            "3   2024-10-22 08:00:03     534.0     400.0          134.0  236.10    235.96   \n",
            "9   2024-10-22 08:00:16    3408.0    2846.0          562.0  235.97    235.81   \n",
            "10  2024-10-22 08:00:18    3372.0    1962.0         1410.0  235.71    235.71   \n",
            "12  2024-10-22 08:00:34    3030.0    2501.0          529.0  235.69    235.57   \n",
            "\n",
            "    best_ask  mid_price  \n",
            "2     236.11     235.97  \n",
            "3     236.10     236.03  \n",
            "9     235.97     235.89  \n",
            "10    235.81     235.76  \n",
            "12    235.71     235.64  \n",
            "Data summary:\n",
            "            bid_fill       ask_fill  Signed Volume         price  \\\n",
            "count   11601.000000   11601.000000   11601.000000  11601.000000   \n",
            "mean     8160.805103    4609.172485    3551.632618    234.781986   \n",
            "std     11212.916500    7084.565100    6440.682961      0.805365   \n",
            "min         1.000000       0.000000       1.000000    230.240000   \n",
            "25%      1216.000000     425.000000     434.000000    234.250000   \n",
            "50%      4873.000000    1940.000000    1760.000000    234.890000   \n",
            "75%     11353.000000    6134.000000    4633.000000    235.430000   \n",
            "max    399704.000000  120250.000000  361679.000000    236.780000   \n",
            "\n",
            "           best_bid      best_ask     mid_price  \n",
            "count  11601.000000  11601.000000  11601.000000  \n",
            "mean     234.769802    234.805862    234.787832  \n",
            "std        0.800866      0.812272      0.805987  \n",
            "min      232.630000    232.660000    232.645000  \n",
            "25%      234.240000    234.250000    234.245000  \n",
            "50%      234.880000    234.920000    234.905000  \n",
            "75%      235.420000    235.450000    235.435000  \n",
            "max      236.180000    236.190000    236.185000  \n"
          ]
        }
      ]
    },
    {
      "cell_type": "markdown",
      "source": [
        "# ***Construct and Code the Linear OW Model (Obizhaeva-Wang Model)***"
      ],
      "metadata": {
        "id": "9saB9fGSNDLX"
      }
    },
    {
      "cell_type": "markdown",
      "source": [
        "The Linear OW Model assumes a linear relationship between the price impact and the quantity traded. We'll use Signed volume (trade size) to calculate the price impact.\n",
        "\n",
        "**The linear price impact is given by below: **\n",
        "![image.png](data:image/png;base64,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)\n",
        "\n",
        "Where,\n",
        "\n",
        "λ is the price impact factor (a constant).\n",
        "Qt is the trade size (signed volume in this case).\n",
        "\n",
        "Now, we construct the Linear OW Model as per the task from the research paper. We will use signed volume as the trade size to calculate price impact.\n",
        "\n",
        "\n"
      ],
      "metadata": {
        "id": "_dHA32_BNG2V"
      }
    },
    {
      "cell_type": "markdown",
      "source": [
        "# ***Assumptions:***\n",
        "We will use signed volume (i.e., the difference between bid and ask fills) as the trade size (Q_t).\n",
        "We will calculate price impact using both Linear OW Model and Nonlinear AFS Model.\n",
        "We will simulate returns for the optimal strategy and calculate the Sharpe Ratio.\n",
        "A deep learning model will be built to predict price impact using the provided features."
      ],
      "metadata": {
        "id": "bvRbgdFGSg98"
      }
    },
    {
      "cell_type": "code",
      "source": [
        "# Linear OW Model: Price Impact = lambda * Signed volume (Q_t)\n",
        "lambda_ow = 0.01  # Example value for lambda (price impact coefficient)\n",
        "\n",
        "# Using signed volume as trade size (Q_t)\n",
        "signed_volume = data['Signed Volume'].values\n",
        "\n",
        "# Calculate price impact for the Linear OW model\n",
        "price_impact_ow = lambda_ow * signed_volume\n",
        "\n",
        "# Check summary statistics of the calculated price impact\n",
        "print(f\"Price impact summary statistics:\\n{pd.Series(price_impact_ow).describe()}\")\n"
      ],
      "metadata": {
        "colab": {
          "base_uri": "https://localhost:8080/"
        },
        "id": "sE0EX5cyM_ZS",
        "outputId": "a4fa2b35-d127-48ea-a1ea-e73a14c1a73d"
      },
      "execution_count": 20,
      "outputs": [
        {
          "output_type": "stream",
          "name": "stdout",
          "text": [
            "Price impact summary statistics:\n",
            "count    11601.000000\n",
            "mean        35.516326\n",
            "std         64.406830\n",
            "min          0.010000\n",
            "25%          4.340000\n",
            "50%         17.600000\n",
            "75%         46.330000\n",
            "max       3616.790000\n",
            "dtype: float64\n"
          ]
        }
      ]
    },
    {
      "cell_type": "markdown",
      "source": [
        "# Linear OW Model: Price Impact = lambda * Signed volume"
      ],
      "metadata": {
        "id": "5QOtoFpjUSua"
      }
    },
    {
      "cell_type": "code",
      "source": [
        "# Linear OW Model: Price Impact = lambda * Signed volume\n",
        "lambda_ow = 0.01  # Scaling constant for Linear OW Model\n",
        "signed_volume = data['Signed Volume'].values  # Signed volume as trade size (Q_t)\n",
        "\n",
        "# Calculate price impact for the Linear OW model\n",
        "price_impact_ow = lambda_ow * signed_volume\n",
        "\n",
        "# Visualize the price impact distribution from the Linear OW model\n",
        "plt.hist(price_impact_ow, bins=50, alpha=0.75, color='blue')\n",
        "plt.title('Linear OW Model - Price Impact Distribution')\n",
        "plt.xlabel('Price Impact')\n",
        "plt.ylabel('Frequency')\n",
        "plt.show()\n"
      ],
      "metadata": {
        "colab": {
          "base_uri": "https://localhost:8080/",
          "height": 472
        },
        "id": "AZ5MCJqkTRsB",
        "outputId": "6e1992bc-bda1-42af-c717-80ba47624aeb"
      },
      "execution_count": 34,
      "outputs": [
        {
          "output_type": "display_data",
          "data": {
            "text/plain": [
              "<Figure size 640x480 with 1 Axes>"
            ],
            "image/png": "[encoded data removed]"
          },
          "metadata": {}
        }
      ]
    },
    {
      "cell_type": "markdown",
      "source": [
        "# **Nonlinear AFS Model (Alfonsi-Fruth-Schied Model)**\n",
        "\n",
        "**1. Lambda and Beta:**\n",
        "\n",
        "- λ=0.01: The scaling constant that you can adjust based on your data.\n",
        "- β =0.5:The elasticity parameter, which controls the nonlinearity of the price impact. You can experiment with different values of β to see how it affects the price impact calculation.\n",
        "\n",
        "**2. Price Impact Calculation:**\n",
        "The formula used is the folowing\n",
        "\n",
        "\n",
        "![image.png](data:image/png;base64,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)\n",
        "\n",
        "\n",
        "- We use signed volume as the trade size Qt which represents the difference between bid fill and ask fill.\n",
        "\n",
        "\n",
        "\n",
        "3. Visualizing the Distribution:\n",
        "The price impact distribution for the Nonlinear AFS Model is visualized using a histogram. This will show you how price impact is distributed based on the trade size and the nonlinearity factor\n",
        "β.\n"
      ],
      "metadata": {
        "id": "oQ453ntoV9Uf"
      }
    },
    {
      "cell_type": "code",
      "source": [
        "# Nonlinear AFS Model: Price Impact = lambda * |Signed volume|^beta\n",
        "lambda_afs = 0.01  # Scaling constant for Nonlinear AFS Model\n",
        "beta = 0.5  # Elasticity parameter (nonlinearity factor)\n",
        "\n",
        "# Calculate price impact for the Nonlinear AFS Model\n",
        "price_impact_afs = lambda_afs * np.abs(signed_volume) ** beta\n",
        "\n",
        "# Visualize the price impact distribution from the Nonlinear AFS model\n",
        "plt.hist(price_impact_afs, bins=50, alpha=0.75, color='green')\n",
        "plt.title('Nonlinear AFS Model - Price Impact Distribution')\n",
        "plt.xlabel('Price Impact')\n",
        "plt.ylabel('Frequency')\n",
        "plt.show()\n"
      ],
      "metadata": {
        "colab": {
          "base_uri": "https://localhost:8080/",
          "height": 472
        },
        "id": "B65Btx5hUKSp",
        "outputId": "95f2e55d-ad1d-4ddd-a3e6-6118fe6c9745"
      },
      "execution_count": 35,
      "outputs": [
        {
          "output_type": "display_data",
          "data": {
            "text/plain": [
              "<Figure size 640x480 with 1 Axes>"
            ],
            "image/png": "[encoded data removed]"
          },
          "metadata": {}
        }
      ]
    },
    {
      "cell_type": "markdown",
      "source": [
        "\n",
        "# ***Handling Outliers for Both Models***\n",
        "\n",
        "Both models could have outliers that distort the price impact distribution. We can handle outliers by removing extreme values or capping them at a certain threshold."
      ],
      "metadata": {
        "id": "jUUiDquhXXUr"
      }
    },
    {
      "cell_type": "markdown",
      "source": [
        "***Option 1: Remove Outliers (99th Percentile)***"
      ],
      "metadata": {
        "id": "_d0Sxa88aFxj"
      }
    },
    {
      "cell_type": "code",
      "source": [
        "# Check summary statistics of the price impact for both models\n",
        "print(\"Price Impact Summary (Linear OW Model):\")\n",
        "print(pd.Series(price_impact_ow).describe())\n",
        "\n",
        "print(\"\\nPrice Impact Summary (Nonlinear AFS Model):\")\n",
        "print(pd.Series(price_impact_afs).describe())\n"
      ],
      "metadata": {
        "colab": {
          "base_uri": "https://localhost:8080/"
        },
        "id": "YmHJAy4eXTqB",
        "outputId": "fe45f49a-a05b-4b3f-bd95-8ccd7500653c"
      },
      "execution_count": 38,
      "outputs": [
        {
          "output_type": "stream",
          "name": "stdout",
          "text": [
            "Price Impact Summary (Linear OW Model):\n",
            "count    11601.000000\n",
            "mean        35.516326\n",
            "std         64.406830\n",
            "min          0.010000\n",
            "25%          4.340000\n",
            "50%         17.600000\n",
            "75%         46.330000\n",
            "max       3616.790000\n",
            "dtype: float64\n",
            "\n",
            "Price Impact Summary (Nonlinear AFS Model):\n",
            "count    11601.000000\n",
            "mean         0.481366\n",
            "std          0.351370\n",
            "min          0.010000\n",
            "25%          0.208327\n",
            "50%          0.419524\n",
            "75%          0.680661\n",
            "max          6.013975\n",
            "dtype: float64\n"
          ]
        }
      ]
    },
    {
      "cell_type": "markdown",
      "source": [
        "\n",
        "# *** Remove or Cap Outliers (99th Percentile)***\n",
        "Let's start by removing or capping the extreme values for the Linear OW Model."
      ],
      "metadata": {
        "id": "r3lCgPjUaxwB"
      }
    },
    {
      "cell_type": "code",
      "source": [
        "# Remove extreme outliers (beyond the 99th percentile) for the Linear OW Model\n",
        "upper_limit_ow = np.percentile(price_impact_ow, 99)\n",
        "filtered_price_impact_ow = price_impact_ow[price_impact_ow <= upper_limit_ow]\n",
        "\n",
        "# Cap the price impact values at the 99th percentile for Linear OW Model\n",
        "price_impact_ow_capped = np.clip(price_impact_ow, None, upper_limit_ow)\n",
        "\n",
        "# Visualize the filtered and capped price impact distributions for Linear OW Model\n",
        "plt.hist(filtered_price_impact_ow, bins=50, alpha=0.5, color='blue', label='Linear OW Model (Filtered)')\n",
        "plt.hist(price_impact_ow_capped, bins=50, alpha=0.5, color='cyan', label='Linear OW Model (Capped)')\n",
        "plt.title('Linear OW Model - Price Impact Distribution (Filtered & Capped)')\n",
        "plt.xlabel('Price Impact')\n",
        "plt.ylabel('Frequency')\n",
        "plt.legend()\n",
        "plt.show()\n"
      ],
      "metadata": {
        "colab": {
          "base_uri": "https://localhost:8080/",
          "height": 472
        },
        "id": "wRhC9WKrXha6",
        "outputId": "3606e33c-c151-4e71-bc80-5aa901579312"
      },
      "execution_count": 40,
      "outputs": [
        {
          "output_type": "display_data",
          "data": {
            "text/plain": [
              "<Figure size 640x480 with 1 Axes>"
            ],
            "image/png": "[encoded data removed]"
          },
          "metadata": {}
        }
      ]
    },
    {
      "cell_type": "markdown",
      "source": [
        "\n",
        "\n",
        "# ***Step 2: Logarithmic Scale for Better Visualization***\n",
        "\n",
        "After handling outliers, we can apply a logarithmic scale to visualize the price impacts, as the Linear OW Model produces a much wider range of values compared to the Nonlinear AFS Model."
      ],
      "metadata": {
        "id": "B_loYa2Va5Qh"
      }
    },
    {
      "cell_type": "code",
      "source": [
        "# Apply log scale for better visualization of both models\n",
        "plt.hist(log_price_impact_ow, bins=50, alpha=0.5, color='blue', label='Linear OW Model (Log)')\n",
        "plt.hist(log_price_impact_afs, bins=50, alpha=0.5, color='green', label='Nonlinear AFS Model (Log)')\n",
        "plt.title('Comparison of Price Impact Distributions (Log Scale)')\n",
        "plt.xlabel('Log(Price Impact)')\n",
        "plt.ylabel('Log(Frequency)')\n",
        "plt.yscale('log')  # Log scale for y-axis to handle large range of frequencies\n",
        "plt.legend()\n",
        "plt.show()\n"
      ],
      "metadata": {
        "colab": {
          "base_uri": "https://localhost:8080/",
          "height": 472
        },
        "id": "wN2xfTBMasao",
        "outputId": "7376f722-2bf2-428b-b7de-78c5f57bd2fd"
      },
      "execution_count": 45,
      "outputs": [
        {
          "output_type": "display_data",
          "data": {
            "text/plain": [
              "<Figure size 640x480 with 1 Axes>"
            ],
            "image/png": "[encoded data removed]"
          },
          "metadata": {}
        }
      ]
    },
    {
      "cell_type": "code",
      "source": [
        "# Apply log transformation to both price impact distributions\n",
        "# Adding 1 to avoid log(0) errors\n",
        "log_price_impact_ow = np.log1p(price_impact_ow)  # log(1 + x)\n",
        "log_price_impact_afs = np.log1p(price_impact_afs)  # log(1 + x)\n",
        "\n",
        "# Visualize both models using a logarithmic scale after transformation\n",
        "plt.hist(log_price_impact_ow, bins=50, alpha=0.5, color='blue', label='Linear OW Model (Log)')\n",
        "plt.hist(log_price_impact_afs, bins=50, alpha=0.5, color='green', label='Nonlinear AFS Model (Log)')\n",
        "plt.title('Comparison of Price Impact Distributions (Log Transformation)')\n",
        "plt.xlabel('Log(Price Impact)')\n",
        "plt.ylabel('Frequency')\n",
        "plt.legend()\n",
        "plt.show()\n"
      ],
      "metadata": {
        "colab": {
          "base_uri": "https://localhost:8080/",
          "height": 472
        },
        "id": "IS7zla5sa9NW",
        "outputId": "4d7f53e8-5e80-4914-b55d-3fad98fa9f5a"
      },
      "execution_count": 43,
      "outputs": [
        {
          "output_type": "display_data",
          "data": {
            "text/plain": [
              "<Figure size 640x480 with 1 Axes>"
            ],
            "image/png": "[encoded data removed]"
          },
          "metadata": {}
        }
      ]
    },
    {
      "cell_type": "markdown",
      "source": [
        "Compared the price impact distributions of both models using histograms, adjusting for scale and range differences.\n",
        "Used both filtered data and logarithmic scaling to ensure clarity in comparison.\n",
        "# ***Visualization Outcomes:***\n",
        "The visualizations now show the distribution of price impact for both the Linear OW Model and the Nonlinear AFS Model. By adjusting for outliers, logarithmic scaling, and applying the necessary transformations, you've successfully addressed the task of visualizing the price impact distributions."
      ],
      "metadata": {
        "id": "iDXQBRuUbnbw"
      }
    },
    {
      "cell_type": "code",
      "source": [],
      "metadata": {
        "id": "bcXISAK-bDTf"
      },
      "execution_count": null,
      "outputs": []
    }
  ]
}